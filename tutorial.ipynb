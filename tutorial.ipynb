{
 "cells": [
  {
   "cell_type": "code",
   "execution_count": 1,
   "metadata": {},
   "outputs": [],
   "source": [
    "import os\n",
    "import pandas as pd\n",
    "from sklearn.metrics import accuracy_score, roc_curve, recall_score\n",
    "import numpy as np\n",
    "from EXE_scanner import GBDTMalwareClassifier"
   ]
  },
  {
   "cell_type": "markdown",
   "metadata": {},
   "source": [
    "# Setup EXE-scanner"
   ]
  },
  {
   "cell_type": "code",
   "execution_count": 2,
   "metadata": {},
   "outputs": [],
   "source": [
    "# Load pre-trained main classifier\n",
    "# GBDT model trained on the EMBER dataset with threshold set on our validation set \n",
    "main_classifier = GBDTMalwareClassifier()\n",
    "main_classifier.load(model_path='data/models/main_clf-GBDT-model.txt', roc_curve_path='data/models/main_clf-GBDT-roc_curve.csv')"
   ]
  },
  {
   "cell_type": "code",
   "execution_count": 3,
   "metadata": {},
   "outputs": [],
   "source": [
    "# Use provided model to predict data points that are not fixed at 1\n",
    "def calculate_remaining_predictions(done_predictions, X, model):\n",
    "    y_pred_combined = np.empty(len(done_predictions), dtype=int)\n",
    "    y_pred_proba_combined = np.empty(len(done_predictions), dtype=float)\n",
    "    for i in range(len(done_predictions)):\n",
    "        if done_predictions[i] != 1: # Prediction not fixed at 1, need to check EXE-scanner\n",
    "            model_pred = model.predict_proba(X.iloc[i].to_numpy().reshape(1, -1))[0]\n",
    "            y_pred_combined[i] = (model_pred > model.threshold).astype(int)\n",
    "            y_pred_proba_combined[i] = model_pred\n",
    "        else: # Prediction fixed at 1, don't change it\n",
    "            y_pred_combined[i] = done_predictions[i]\n",
    "            y_pred_proba_combined[i] = done_predictions[i]\n",
    "\n",
    "    return y_pred_combined, y_pred_proba_combined"
   ]
  },
  {
   "cell_type": "markdown",
   "metadata": {},
   "source": [
    "## Load pre-trained EXE-scanner"
   ]
  },
  {
   "cell_type": "code",
   "execution_count": 4,
   "metadata": {},
   "outputs": [],
   "source": [
    "EXE_scanner = GBDTMalwareClassifier()\n",
    "EXE_scanner.load(model_path=\"data/models/EXE_scanner-model.txt\", roc_curve_path=\"data/models/EXE_scanner-roc_curve.csv\")"
   ]
  },
  {
   "cell_type": "markdown",
   "metadata": {},
   "source": [
    "## or"
   ]
  },
  {
   "cell_type": "markdown",
   "metadata": {},
   "source": [
    "## Custom setup of EXE-scanner"
   ]
  },
  {
   "cell_type": "code",
   "execution_count": 5,
   "metadata": {},
   "outputs": [],
   "source": [
    "# Load train and validation datasets (see README for details)\n",
    "df_train = pd.read_csv('data/train.csv', header=[0, 1])\n",
    "df_val = pd.read_csv('data/val.csv', header=[0, 1])\n",
    "\n",
    "\n",
    "X_train = df_train[\"features\"]\n",
    "y_train = df_train[\"label\"][\"y\"]\n",
    "X_val = df_val[\"features\"]\n",
    "y_val = df_val[\"label\"][\"y\"]"
   ]
  },
  {
   "cell_type": "code",
   "execution_count": null,
   "metadata": {},
   "outputs": [],
   "source": [
    "# Train EXE-scanner\n",
    "EXE_scanner = GBDTMalwareClassifier()\n",
    "EXE_scanner.train(X_train, y_train, X_val, y_val)"
   ]
  },
  {
   "cell_type": "code",
   "execution_count": null,
   "metadata": {},
   "outputs": [],
   "source": [
    "# Setup EXE-scanner's threshold together with the pre-trained main classifier (trained on the EMBER dataset with threshold set on our validation set)\n",
    "# Note that the threshold of the main classifier is not updated, only the threshold of the EXE-scanner is calculated so that the combined model has a FPR of 0.01\n",
    "\n",
    "# Predict validation set with the main classifier\n",
    "y_val_pred_clf = main_classifier.predict_proba(X_val)\n",
    "\n",
    "# Fix predictions to 1 if they are above the threshold\n",
    "y_val_pred_set_ones = np.array(list(map(lambda x: x if x <= main_classifier.threshold else 1, y_val_pred_clf)))\n",
    "\n",
    "# Calculate remaining predictions, i.e. predictions that were not fixed in the previous step\n",
    "y_val_pred_combined, y_val_pred_combined_proba = calculate_remaining_predictions(y_val_pred_set_ones, X_val, EXE_scanner)\n",
    "assert len(y_val_pred_combined) == len(y_val)\n",
    "\n",
    "# Calculate threshold for EXE-scanner\n",
    "fpr, tpr, thresholds = roc_curve(y_val, y_val_pred_combined_proba)\n",
    "roc_data = pd.DataFrame({\"fpr\": fpr, \"tpr\": tpr, \"thresholds\": thresholds})\n",
    "EXE_scanner.update_threshold(roc_data, 0.01)\n",
    "\n",
    "# Save EXE-scanner model\n",
    "EXE_scanner.save(\"data/models/custom_EXE_scanner-model.txt\")"
   ]
  },
  {
   "cell_type": "markdown",
   "metadata": {},
   "source": [
    "# Evaluation"
   ]
  },
  {
   "cell_type": "code",
   "execution_count": 8,
   "metadata": {},
   "outputs": [],
   "source": [
    "df_test = pd.read_csv('data/test.csv', header=[0, 1])\n",
    "X_test = df_test[\"features\"]\n",
    "y_test = df_test[\"label\"][\"y\"]"
   ]
  },
  {
   "cell_type": "code",
   "execution_count": null,
   "metadata": {},
   "outputs": [],
   "source": [
    "# Predict test set with the main classifier\n",
    "y_test_pred_clf = main_classifier.predict(X_test)\n",
    "\n",
    "# Fix predictions to 1 if they are above the threshold\n",
    "y_test_pred_set_ones = np.array(list(map(lambda x: x if x <= main_classifier.threshold else 1, y_test_pred_clf)))\n",
    "\n",
    "# Calculate remaining predictions, i.e. predictions that were not fixed in the previous step\n",
    "y_test_pred_combined, y_test_pred_combined_combined = calculate_remaining_predictions(y_test_pred_set_ones, X_test, EXE_scanner)\n",
    "assert len(y_test_pred_combined) == len(y_test)\n",
    "y_pred = y_test_pred_combined"
   ]
  },
  {
   "cell_type": "code",
   "execution_count": 10,
   "metadata": {},
   "outputs": [
    {
     "name": "stdout",
     "output_type": "stream",
     "text": [
      "ACC: 99.02\n",
      "TPR: 99.07\n",
      "FPR: 1.1\n"
     ]
    }
   ],
   "source": [
    "ACC = accuracy_score(y_test, y_pred)\n",
    "TPR = recall_score(y_test, y_pred)\n",
    "FPR = 1 - recall_score(y_test, y_pred, pos_label=0)\n",
    "print(\"ACC:\", round(ACC * 100, 2))\n",
    "print(\"TPR:\", round(TPR * 100, 2))\n",
    "print(\"FPR:\", round(FPR * 100, 2))"
   ]
  },
  {
   "cell_type": "markdown",
   "metadata": {},
   "source": [
    "# Real-world executable files"
   ]
  },
  {
   "cell_type": "code",
   "execution_count": 11,
   "metadata": {},
   "outputs": [],
   "source": [
    "class WrapperEXEscanner:\n",
    "    \"\"\"\n",
    "    A wrapper class for the use of EXE scanner with standalone malware classifier.\n",
    "\n",
    "    Parameters:\n",
    "    - main_classifier: The main classifier model.\n",
    "    - EXE_scanner: The EXE scanner model.\n",
    "    - main_classifier_threshold: The threshold value for the main classifier. (optional)\n",
    "\n",
    "    Methods:\n",
    "    - predict_sample(bytez, return_score=False): Predicts the label for a given sample.\n",
    "\n",
    "    \"\"\"\n",
    "\n",
    "    def __init__(self, main_classifier, EXE_scanner, main_classifier_threshold=None):\n",
    "        self.main_classifier = main_classifier\n",
    "        self.EXE_scanner = EXE_scanner\n",
    "        self.main_classifier_threshold = main_classifier_threshold\n",
    "\n",
    "    def predict_sample(self, bytez, return_score=False):\n",
    "        \"\"\"\n",
    "        Predicts the label for a given sample.\n",
    "\n",
    "        Parameters:\n",
    "        - bytez: The input sample in byte format.\n",
    "        - return_score: Whether to return the prediction score. (default: False)\n",
    "\n",
    "        Returns:\n",
    "        - predicted_label: The predicted label for the sample.\n",
    "        - score: The prediction score (if return_score is True).\n",
    "\n",
    "        \"\"\"\n",
    "        if return_score:\n",
    "            assert self.main_classifier_threshold is not None, \"Main classifier's threshold must be set in order to return score.\"\n",
    "\n",
    "        score = self.main_classifier.predict_proba(bytez)\n",
    "        is_malicious = score > self.main_classifier_threshold\n",
    "        if not is_malicious:\n",
    "            score = self.EXE_scanner.get_score(bytez)\n",
    "            is_malicious = score > self.EXE_scanner.threshold\n",
    "\n",
    "        predicted_label = int(is_malicious)\n",
    "        if return_score:\n",
    "            return predicted_label, score\n",
    "        else:\n",
    "            return predicted_label"
   ]
  },
  {
   "cell_type": "code",
   "execution_count": 12,
   "metadata": {},
   "outputs": [],
   "source": [
    "main_classifier = GBDTMalwareClassifier()\n",
    "main_classifier.load(model_path='data/models/main_clf-GBDT-model.txt', roc_curve_path='data/models/main_clf-GBDT-roc_curve.csv')\n",
    "\n",
    "EXE_scanner = GBDTMalwareClassifier()\n",
    "EXE_scanner.load(model_path=\"data/models/EXE_scanner-model.txt\", roc_curve_path=\"data/models/EXE_scanner-roc_curve.csv\")\n",
    "\n",
    "wrapper = WrapperEXEscanner(main_classifier, EXE_scanner, main_classifier_threshold=main_classifier.threshold)"
   ]
  },
  {
   "cell_type": "code",
   "execution_count": 13,
   "metadata": {},
   "outputs": [],
   "source": [
    "# Requires placing executables inside \"samples\" folder in the root of this repository\n",
    "SAMPLE_FOLDER = \"samples\"\n",
    "for file in os.listdir(SAMPLE_FOLDER):\n",
    "    with open(os.path.join(SAMPLE_FOLDER, file), \"rb\") as f:\n",
    "        bytez = f.read()\n",
    "        score = wrapper.get_score(bytez)\n",
    "        print(f\"{file}: {score}\")"
   ]
  }
 ],
 "metadata": {
  "kernelspec": {
   "display_name": "Python 3",
   "language": "python",
   "name": "python3"
  },
  "language_info": {
   "codemirror_mode": {
    "name": "ipython",
    "version": 3
   },
   "file_extension": ".py",
   "mimetype": "text/x-python",
   "name": "python",
   "nbconvert_exporter": "python",
   "pygments_lexer": "ipython3",
   "version": "3.11.3"
  }
 },
 "nbformat": 4,
 "nbformat_minor": 2
}
