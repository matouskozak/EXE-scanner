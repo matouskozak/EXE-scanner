{
 "cells": [
  {
   "cell_type": "code",
   "execution_count": 1,
   "metadata": {},
   "outputs": [],
   "source": [
    "import joblib\n",
    "import os\n",
    "from EXE_scanner import EXEscanner"
   ]
  },
  {
   "cell_type": "code",
   "execution_count": 2,
   "metadata": {},
   "outputs": [],
   "source": [
    "class WrapperEXEscanner:\n",
    "    def __init__(self, main_classifier, EXE_scanner, main_classifier_threshold=None):\n",
    "        self.main_classifier = main_classifier\n",
    "        self.EXE_scanner = EXE_scanner\n",
    "        self.main_classifier_threshold = main_classifier_threshold\n",
    "\n",
    "    def predict_sample(self, bytez, return_score=False):\n",
    "        if return_score:\n",
    "            assert self.main_classifier_threshold is not None, \"Main classifier's threshold must be set in the constructor\"\n",
    "\n",
    "        score = self.main_classifier.predict_proba(bytez)\n",
    "        is_malicious = score > self.main_classifier_threshold\n",
    "        if not is_malicious:\n",
    "            score = self.EXE_scanner.get_score(bytez)\n",
    "            is_malicious = score > self.EXE_scanner.threshold\n",
    "\n",
    "        predicted_label = int(is_malicious)\n",
    "        if return_score:\n",
    "            return predicted_label, score\n",
    "        else:\n",
    "            return predicted_label"
   ]
  },
  {
   "cell_type": "code",
   "execution_count": 3,
   "metadata": {},
   "outputs": [
    {
     "name": "stdout",
     "output_type": "stream",
     "text": [
      "Name: EXE_scanner-GBDT-dataset=EMBER_benign_test-AE_all\n",
      "Threshold: 0.9999941463527008\n",
      "Num trees: 1000\n"
     ]
    }
   ],
   "source": [
    "main_classifier = joblib.load(\"data/CLF_DT-dataset=EMBER.joblib\")\n",
    "EXE_scanner = EXEscanner()\n",
    "\n",
    "wrapper = WrapperEXEscanner(main_classifier, EXE_scanner, main_classifier_threshold=0.5)"
   ]
  },
  {
   "cell_type": "code",
   "execution_count": 4,
   "metadata": {},
   "outputs": [],
   "source": [
    "SAMPLE_FOLDER = \"samples\"\n",
    "for file in os.listdir(SAMPLE_FOLDER):\n",
    "    with open(os.path.join(SAMPLE_FOLDER, file), \"rb\") as f:\n",
    "        bytez = f.read()\n",
    "        score = wrapper.get_score(bytez)\n",
    "        print(f\"{file}: {score}\")"
   ]
  },
  {
   "cell_type": "code",
   "execution_count": null,
   "metadata": {},
   "outputs": [],
   "source": []
  }
 ],
 "metadata": {
  "kernelspec": {
   "display_name": "Python 3",
   "language": "python",
   "name": "python3"
  },
  "language_info": {
   "codemirror_mode": {
    "name": "ipython",
    "version": 3
   },
   "file_extension": ".py",
   "mimetype": "text/x-python",
   "name": "python",
   "nbconvert_exporter": "python",
   "pygments_lexer": "ipython3",
   "version": "3.11.3"
  }
 },
 "nbformat": 4,
 "nbformat_minor": 2
}
