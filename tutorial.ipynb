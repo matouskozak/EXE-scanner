{
 "cells": [
  {
   "cell_type": "code",
   "execution_count": 5,
   "metadata": {},
   "outputs": [],
   "source": [
    "import joblib\n",
    "import os\n",
    "from EXE_scanner import EXEscanner"
   ]
  },
  {
   "cell_type": "code",
   "execution_count": 22,
   "metadata": {},
   "outputs": [],
   "source": [
    "class WrapperEXEscanner:\n",
    "    def __init__(self, main_classifier, EXE_scanner, main_classifier_threshold=None):\n",
    "        self.main_classifier = main_classifier\n",
    "        self.EXE_scanner = EXE_scanner\n",
    "        self.main_classifier_threshold = main_classifier_threshold\n",
    "\n",
    "    def predict_sample(self, bytez, return_score=False):\n",
    "        if return_score:\n",
    "            assert self.main_classifier_threshold is not None, \"Main classifier's threshold must be set in the constructor\"\n",
    "\n",
    "        score = self.main_classifier.predict_proba(bytez)\n",
    "        is_malicious = score > self.main_classifier_threshold\n",
    "        if not is_malicious:\n",
    "            score = self.EXE_scanner.get_score(bytez)\n",
    "            is_malicious = score > self.EXE_scanner.threshold\n",
    "\n",
    "        predicted_label = int(is_malicious)\n",
    "        if return_score:\n",
    "            return predicted_label, score\n",
    "        else:\n",
    "            return predicted_label"
   ]
  },
  {
   "cell_type": "code",
   "execution_count": 23,
   "metadata": {},
   "outputs": [
    {
     "ename": "TypeError",
     "evalue": "DecisionTreeClassifier.fit() missing 2 required positional arguments: 'X' and 'y'",
     "output_type": "error",
     "traceback": [
      "\u001b[0;31m---------------------------------------------------------------------------\u001b[0m",
      "\u001b[0;31mTypeError\u001b[0m                                 Traceback (most recent call last)",
      "Cell \u001b[0;32mIn[23], line 1\u001b[0m\n\u001b[0;32m----> 1\u001b[0m combined_classifier \u001b[38;5;241m=\u001b[39m WrapperEXEscanner(\u001b[43mDecisionTreeClassifier\u001b[49m\u001b[43m(\u001b[49m\u001b[43m)\u001b[49m\u001b[38;5;241;43m.\u001b[39;49m\u001b[43mfit\u001b[49m\u001b[43m(\u001b[49m\u001b[43m)\u001b[49m, EXEscanner(), \u001b[38;5;241m0.5\u001b[39m)\n\u001b[1;32m      3\u001b[0m \u001b[38;5;66;03m#with open(\"test.exe\", \"rb\") as f:\u001b[39;00m\n\u001b[1;32m      4\u001b[0m \u001b[38;5;66;03m#    bytez = f.read()\u001b[39;00m\n\u001b[1;32m      6\u001b[0m combined_classifier\u001b[38;5;241m.\u001b[39mpredict_sample(\u001b[38;5;124mb\u001b[39m\u001b[38;5;124m'\u001b[39m\u001b[38;5;124m010015\u001b[39m\u001b[38;5;124m'\u001b[39m)\n",
      "\u001b[0;31mTypeError\u001b[0m: DecisionTreeClassifier.fit() missing 2 required positional arguments: 'X' and 'y'"
     ]
    }
   ],
   "source": [
    "main_classifier = joblib.load(\"data/CLF_DT-dataset=EMBER.joblib\")\n",
    "print(main_classifier.get_params())\n",
    "EXE_scanner = EXEscanner()"
   ]
  },
  {
   "cell_type": "code",
   "execution_count": null,
   "metadata": {},
   "outputs": [],
   "source": [
    "SAMPLE_FOLDER = \"samples\"\n",
    "for file in os.listdir(SAMPLE_FOLDER):\n",
    "    with open(os.path.join(SAMPLE_FOLDER, file), \"rb\") as f:\n",
    "        bytez = f.read()\n",
    "        score = EXE_scanner.get_score(bytez)\n",
    "        print(f\"{file}: {score}\")"
   ]
  }
 ],
 "metadata": {
  "kernelspec": {
   "display_name": "Python 3",
   "language": "python",
   "name": "python3"
  },
  "language_info": {
   "codemirror_mode": {
    "name": "ipython",
    "version": 3
   },
   "file_extension": ".py",
   "mimetype": "text/x-python",
   "name": "python",
   "nbconvert_exporter": "python",
   "pygments_lexer": "ipython3",
   "version": "3.11.3"
  }
 },
 "nbformat": 4,
 "nbformat_minor": 2
}
